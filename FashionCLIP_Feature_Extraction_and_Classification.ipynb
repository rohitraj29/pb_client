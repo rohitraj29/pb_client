{
  "cells": [
    {
      "cell_type": "markdown",
      "metadata": {
        "id": "view-in-github",
        "colab_type": "text"
      },
      "source": [
        "<a href=\"https://colab.research.google.com/github/rohitraj29/pb_client/blob/main/FashionCLIP_Feature_Extraction_and_Classification.ipynb\" target=\"_parent\"><img src=\"https://colab.research.google.com/assets/colab-badge.svg\" alt=\"Open In Colab\"/></a>"
      ]
    },
    {
      "cell_type": "markdown",
      "metadata": {
        "id": "xfz7BSY7SP5P"
      },
      "source": [
        "# A Hands-On Tutorial on FashionCLIP\n",
        "\n",
        "Welcome to our FashionCLIP tutorial! Here we will show how you can embed your own images with FashionCLIP and play with the representations.\n",
        "\n",
        "[![Youtube Video](https://img.shields.io/badge/youtube-video-red)](https://www.youtube.com/watch?v=uqRSc-KSA1Y)\n",
        "[![HuggingFace Model](https://img.shields.io/badge/HF%20Model-Weights-yellow)](https://huggingface.co/spaces/clip-italian/clip-italian-demo)\n",
        "[![Open In Colab](https://colab.research.google.com/assets/colab-badge.svg)](https://colab.research.google.com/drive/1Z1hAxBnWjF76bEi9KQ6CMBBEmI_FVDrW?usp=sharing)\n",
        "[![Medium Blog Post](https://raw.githubusercontent.com/aleen42/badges/master/src/medium.svg)](https://towardsdatascience.com/teaching-clip-some-fashion-3005ac3fdcc3)\n",
        "\n",
        "\n",
        "**VERY IMPORTANT** \\\n",
        "If your collection of images is large, make sure you are using a **GPU** (if you are on Colab go to Runtime -> Change Runtime Type). Otherwise it's going to take long to compute embeddings!\n",
        "\n",
        "\n",
        "### Use Cases\n",
        "\n",
        "We will go through three different possible usages of FashionCLIP:\n",
        "\n",
        "*   **Image Retrieval.** Given a query, we will find the image that best describe that query.\n",
        "\n",
        "*   **Zero Shot Classification.** Given an image, we will try to classify some images using some labels.\n",
        "\n",
        "*   **Feature Extraction for Supervised Learning.** We will extract image features using FashionCLIP and use them to do image classification."
      ]
    },
    {
      "cell_type": "markdown",
      "metadata": {
        "id": "VZ3s403V5LKs"
      },
      "source": [
        "## Getting Started\n",
        "\n",
        "To start this tutorial, let's first download some images!"
      ]
    },
    {
      "cell_type": "code",
      "execution_count": 1,
      "metadata": {
        "id": "mLyWzNhJwoS2"
      },
      "outputs": [],
      "source": [
        "%%capture\n",
        "!pip install gdown\n",
        "!gdown \"1igAuIEW_4h_51BG1o05WS0Q0-Cp17_-t&confirm=t\"\n",
        "!unzip data"
      ]
    },
    {
      "cell_type": "markdown",
      "metadata": {
        "id": "kFaN_ybWkI1F"
      },
      "source": [
        "The dataset we used is a sample that comes from [Kaggle](https://www.kaggle.com/competitions/h-and-m-personalized-fashion-recommendations).  We report here data access and use found on Kaggle.\n",
        "\n",
        "**A. Data Access and Use.**\n",
        "\n",
        "Competition Use and Non-Commercial & Academic Research: You may access and use the Competition Data for non-commercial purposes only, including for participating in the Competition and on Kaggle.com forums, and for academic research and education. The Competition Sponsor reserves the right to disqualify any participant who uses the Competition Data other than as permitted by the Competition Website and these Rules."
      ]
    },
    {
      "cell_type": "markdown",
      "metadata": {
        "id": "4dzpM2oASwM6"
      },
      "source": [
        "### The FashionCLIP Model\n",
        "\n",
        "We wrote a simple wrapper that allows you to play with the data a bit and do most of the things you might want to do with few lines of code!\n",
        "\n",
        "It should take 2/3 minutes to install."
      ]
    },
    {
      "cell_type": "code",
      "execution_count": null,
      "metadata": {
        "id": "tyBLvPLgSx5h"
      },
      "outputs": [],
      "source": [
        "%%capture\n",
        "!pip install -U fashion-clip"
      ]
    },
    {
      "cell_type": "code",
      "execution_count": null,
      "metadata": {
        "id": "WijCpqbIyH7T"
      },
      "outputs": [],
      "source": [
        "import sys\n",
        "#sys.path.append(\"fashion-clip/\")\n",
        "from fashion_clip.fashion_clip import FashionCLIP\n",
        "import pandas as pd\n",
        "import numpy as np\n",
        "from collections import Counter\n",
        "from PIL import Image\n",
        "import numpy as np\n",
        "from sklearn.metrics import classification_report\n",
        "from sklearn.model_selection import train_test_split\n",
        "from sklearn.metrics import *\n",
        "from sklearn.linear_model import LogisticRegression"
      ]
    },
    {
      "cell_type": "markdown",
      "metadata": {
        "id": "H1W2J4IAzlEz"
      },
      "source": [
        "Let's now FashionCLIP first. It's going to take a couple of minutes to download the model from the HuggingFace Hub."
      ]
    },
    {
      "cell_type": "code",
      "execution_count": null,
      "metadata": {
        "id": "-xEzYFUbydJY"
      },
      "outputs": [],
      "source": [
        "%%capture\n",
        "fclip = FashionCLIP('fashion-clip')"
      ]
    },
    {
      "cell_type": "markdown",
      "metadata": {
        "id": "ViPu0y8C0UfS"
      },
      "source": [
        "FashionCLIP, as CLIP, creates a shared vector space for images and text. This allows us to tackle many tasks, such as retrieval (find the image that is most similar to a given query) or zero shot classification (find which lables fit an image best).\n",
        "\n",
        "There are basically two main components, and image encoder (to generate a vector starting from an image) and a text encoder (to generate a vector startinf from a piece of text). The general concept is summarized in the following GIF (in 2D)."
      ]
    },
    {
      "cell_type": "markdown",
      "metadata": {
        "id": "8oc2jvxPpFWQ"
      },
      "source": [
        "\n",
        "\n",
        "<img src=\"https://miro.medium.com/v2/resize:fit:1400/0*FLNMtW6jK51fm7Og\"  width=\"400\">\n",
        "\n"
      ]
    },
    {
      "cell_type": "markdown",
      "metadata": {
        "id": "AsPVQgNphwFX"
      },
      "source": [
        "First thing first, let's load the data!\n",
        "Also, let's drop some elements to simplify the analysis."
      ]
    },
    {
      "cell_type": "code",
      "execution_count": null,
      "metadata": {
        "colab": {
          "base_uri": "https://localhost:8080/",
          "height": 393
        },
        "id": "9emW_P2fhxSW",
        "outputId": "15dd8c3d-3752-458d-94f4-c5a67cc94288"
      },
      "outputs": [
        {
          "output_type": "execute_result",
          "data": {
            "text/plain": [
              "   article_id  product_code                   prod_name  product_type_no  \\\n",
              "0   108775044        108775                   Strap top              253   \n",
              "1   176754003        176754  2 Row Braided Headband (1)               74   \n",
              "3   189634031        189634           Long Leg Leggings              273   \n",
              "\n",
              "  product_type_name  product_group_name  graphical_appearance_no  \\\n",
              "0          Vest top  Garment Upper body                  1010016   \n",
              "1   Hair/alice band         Accessories                  1010016   \n",
              "3   Leggings/Tights  Garment Lower body                  1010016   \n",
              "\n",
              "  graphical_appearance_name  colour_group_code colour_group_name  ...  \\\n",
              "0                     Solid                 10             White  ...   \n",
              "1                     Solid                 17   Yellowish Brown  ...   \n",
              "3                     Solid                 93        Dark Green  ...   \n",
              "\n",
              "    department_name index_code          index_name index_group_no  \\\n",
              "0      Jersey Basic          A          Ladieswear              1   \n",
              "1  Hair Accessories          C  Ladies Accessories              1   \n",
              "3           Basic 1          D             Divided              2   \n",
              "\n",
              "   index_group_name section_no              section_name garment_group_no  \\\n",
              "0        Ladieswear         16    Womens Everyday Basics             1002   \n",
              "1        Ladieswear         66  Womens Small accessories             1019   \n",
              "3           Divided         51            Divided Basics             1002   \n",
              "\n",
              "   garment_group_name                                        detail_desc  \n",
              "0        Jersey Basic            Jersey top with narrow shoulder straps.  \n",
              "1         Accessories  Two-strand hairband with braids in imitation s...  \n",
              "3        Jersey Basic  Leggings in stretch jersey with an elasticated...  \n",
              "\n",
              "[3 rows x 25 columns]"
            ],
            "text/html": [
              "\n",
              "  <div id=\"df-0203c4b5-d609-4a23-a2f6-aa318cd3a801\">\n",
              "    <div class=\"colab-df-container\">\n",
              "      <div>\n",
              "<style scoped>\n",
              "    .dataframe tbody tr th:only-of-type {\n",
              "        vertical-align: middle;\n",
              "    }\n",
              "\n",
              "    .dataframe tbody tr th {\n",
              "        vertical-align: top;\n",
              "    }\n",
              "\n",
              "    .dataframe thead th {\n",
              "        text-align: right;\n",
              "    }\n",
              "</style>\n",
              "<table border=\"1\" class=\"dataframe\">\n",
              "  <thead>\n",
              "    <tr style=\"text-align: right;\">\n",
              "      <th></th>\n",
              "      <th>article_id</th>\n",
              "      <th>product_code</th>\n",
              "      <th>prod_name</th>\n",
              "      <th>product_type_no</th>\n",
              "      <th>product_type_name</th>\n",
              "      <th>product_group_name</th>\n",
              "      <th>graphical_appearance_no</th>\n",
              "      <th>graphical_appearance_name</th>\n",
              "      <th>colour_group_code</th>\n",
              "      <th>colour_group_name</th>\n",
              "      <th>...</th>\n",
              "      <th>department_name</th>\n",
              "      <th>index_code</th>\n",
              "      <th>index_name</th>\n",
              "      <th>index_group_no</th>\n",
              "      <th>index_group_name</th>\n",
              "      <th>section_no</th>\n",
              "      <th>section_name</th>\n",
              "      <th>garment_group_no</th>\n",
              "      <th>garment_group_name</th>\n",
              "      <th>detail_desc</th>\n",
              "    </tr>\n",
              "  </thead>\n",
              "  <tbody>\n",
              "    <tr>\n",
              "      <th>0</th>\n",
              "      <td>108775044</td>\n",
              "      <td>108775</td>\n",
              "      <td>Strap top</td>\n",
              "      <td>253</td>\n",
              "      <td>Vest top</td>\n",
              "      <td>Garment Upper body</td>\n",
              "      <td>1010016</td>\n",
              "      <td>Solid</td>\n",
              "      <td>10</td>\n",
              "      <td>White</td>\n",
              "      <td>...</td>\n",
              "      <td>Jersey Basic</td>\n",
              "      <td>A</td>\n",
              "      <td>Ladieswear</td>\n",
              "      <td>1</td>\n",
              "      <td>Ladieswear</td>\n",
              "      <td>16</td>\n",
              "      <td>Womens Everyday Basics</td>\n",
              "      <td>1002</td>\n",
              "      <td>Jersey Basic</td>\n",
              "      <td>Jersey top with narrow shoulder straps.</td>\n",
              "    </tr>\n",
              "    <tr>\n",
              "      <th>1</th>\n",
              "      <td>176754003</td>\n",
              "      <td>176754</td>\n",
              "      <td>2 Row Braided Headband (1)</td>\n",
              "      <td>74</td>\n",
              "      <td>Hair/alice band</td>\n",
              "      <td>Accessories</td>\n",
              "      <td>1010016</td>\n",
              "      <td>Solid</td>\n",
              "      <td>17</td>\n",
              "      <td>Yellowish Brown</td>\n",
              "      <td>...</td>\n",
              "      <td>Hair Accessories</td>\n",
              "      <td>C</td>\n",
              "      <td>Ladies Accessories</td>\n",
              "      <td>1</td>\n",
              "      <td>Ladieswear</td>\n",
              "      <td>66</td>\n",
              "      <td>Womens Small accessories</td>\n",
              "      <td>1019</td>\n",
              "      <td>Accessories</td>\n",
              "      <td>Two-strand hairband with braids in imitation s...</td>\n",
              "    </tr>\n",
              "    <tr>\n",
              "      <th>3</th>\n",
              "      <td>189634031</td>\n",
              "      <td>189634</td>\n",
              "      <td>Long Leg Leggings</td>\n",
              "      <td>273</td>\n",
              "      <td>Leggings/Tights</td>\n",
              "      <td>Garment Lower body</td>\n",
              "      <td>1010016</td>\n",
              "      <td>Solid</td>\n",
              "      <td>93</td>\n",
              "      <td>Dark Green</td>\n",
              "      <td>...</td>\n",
              "      <td>Basic 1</td>\n",
              "      <td>D</td>\n",
              "      <td>Divided</td>\n",
              "      <td>2</td>\n",
              "      <td>Divided</td>\n",
              "      <td>51</td>\n",
              "      <td>Divided Basics</td>\n",
              "      <td>1002</td>\n",
              "      <td>Jersey Basic</td>\n",
              "      <td>Leggings in stretch jersey with an elasticated...</td>\n",
              "    </tr>\n",
              "  </tbody>\n",
              "</table>\n",
              "<p>3 rows × 25 columns</p>\n",
              "</div>\n",
              "      <button class=\"colab-df-convert\" onclick=\"convertToInteractive('df-0203c4b5-d609-4a23-a2f6-aa318cd3a801')\"\n",
              "              title=\"Convert this dataframe to an interactive table.\"\n",
              "              style=\"display:none;\">\n",
              "        \n",
              "  <svg xmlns=\"http://www.w3.org/2000/svg\" height=\"24px\"viewBox=\"0 0 24 24\"\n",
              "       width=\"24px\">\n",
              "    <path d=\"M0 0h24v24H0V0z\" fill=\"none\"/>\n",
              "    <path d=\"M18.56 5.44l.94 2.06.94-2.06 2.06-.94-2.06-.94-.94-2.06-.94 2.06-2.06.94zm-11 1L8.5 8.5l.94-2.06 2.06-.94-2.06-.94L8.5 2.5l-.94 2.06-2.06.94zm10 10l.94 2.06.94-2.06 2.06-.94-2.06-.94-.94-2.06-.94 2.06-2.06.94z\"/><path d=\"M17.41 7.96l-1.37-1.37c-.4-.4-.92-.59-1.43-.59-.52 0-1.04.2-1.43.59L10.3 9.45l-7.72 7.72c-.78.78-.78 2.05 0 2.83L4 21.41c.39.39.9.59 1.41.59.51 0 1.02-.2 1.41-.59l7.78-7.78 2.81-2.81c.8-.78.8-2.07 0-2.86zM5.41 20L4 18.59l7.72-7.72 1.47 1.35L5.41 20z\"/>\n",
              "  </svg>\n",
              "      </button>\n",
              "      \n",
              "  <style>\n",
              "    .colab-df-container {\n",
              "      display:flex;\n",
              "      flex-wrap:wrap;\n",
              "      gap: 12px;\n",
              "    }\n",
              "\n",
              "    .colab-df-convert {\n",
              "      background-color: #E8F0FE;\n",
              "      border: none;\n",
              "      border-radius: 50%;\n",
              "      cursor: pointer;\n",
              "      display: none;\n",
              "      fill: #1967D2;\n",
              "      height: 32px;\n",
              "      padding: 0 0 0 0;\n",
              "      width: 32px;\n",
              "    }\n",
              "\n",
              "    .colab-df-convert:hover {\n",
              "      background-color: #E2EBFA;\n",
              "      box-shadow: 0px 1px 2px rgba(60, 64, 67, 0.3), 0px 1px 3px 1px rgba(60, 64, 67, 0.15);\n",
              "      fill: #174EA6;\n",
              "    }\n",
              "\n",
              "    [theme=dark] .colab-df-convert {\n",
              "      background-color: #3B4455;\n",
              "      fill: #D2E3FC;\n",
              "    }\n",
              "\n",
              "    [theme=dark] .colab-df-convert:hover {\n",
              "      background-color: #434B5C;\n",
              "      box-shadow: 0px 1px 3px 1px rgba(0, 0, 0, 0.15);\n",
              "      filter: drop-shadow(0px 1px 2px rgba(0, 0, 0, 0.3));\n",
              "      fill: #FFFFFF;\n",
              "    }\n",
              "  </style>\n",
              "\n",
              "      <script>\n",
              "        const buttonEl =\n",
              "          document.querySelector('#df-0203c4b5-d609-4a23-a2f6-aa318cd3a801 button.colab-df-convert');\n",
              "        buttonEl.style.display =\n",
              "          google.colab.kernel.accessAllowed ? 'block' : 'none';\n",
              "\n",
              "        async function convertToInteractive(key) {\n",
              "          const element = document.querySelector('#df-0203c4b5-d609-4a23-a2f6-aa318cd3a801');\n",
              "          const dataTable =\n",
              "            await google.colab.kernel.invokeFunction('convertToInteractive',\n",
              "                                                     [key], {});\n",
              "          if (!dataTable) return;\n",
              "\n",
              "          const docLinkHtml = 'Like what you see? Visit the ' +\n",
              "            '<a target=\"_blank\" href=https://colab.research.google.com/notebooks/data_table.ipynb>data table notebook</a>'\n",
              "            + ' to learn more about interactive tables.';\n",
              "          element.innerHTML = '';\n",
              "          dataTable['output_type'] = 'display_data';\n",
              "          await google.colab.output.renderOutput(dataTable, element);\n",
              "          const docLink = document.createElement('div');\n",
              "          docLink.innerHTML = docLinkHtml;\n",
              "          element.appendChild(docLink);\n",
              "        }\n",
              "      </script>\n",
              "    </div>\n",
              "  </div>\n",
              "  "
            ]
          },
          "metadata": {},
          "execution_count": 5
        }
      ],
      "source": [
        "articles = pd.read_csv(\"data_for_fashion_clip/articles.csv\")\n",
        "\n",
        "# drop items that have the same description\n",
        "subset = articles.drop_duplicates(\"detail_desc\").copy()\n",
        "\n",
        "# remove items of unkown category\n",
        "subset = subset[~subset[\"product_group_name\"].isin([\"Unknown\"])]\n",
        "\n",
        "# FashionCLIP has a limit of 77 tokens, let's play it safe and drop things with more than 40 tokens\n",
        "subset = subset[subset[\"detail_desc\"].apply(lambda x : 4 < len(str(x).split()) < 40)]\n",
        "\n",
        "# We also drop products types that do not occur very frequently in this subset of data\n",
        "most_frequent_product_types = [k for k, v in dict(Counter(subset[\"product_type_name\"].tolist())).items() if v > 10]\n",
        "subset = subset[subset[\"product_type_name\"].isin(most_frequent_product_types)]\n",
        "\n",
        "# lots of data here, but we will just use only descriptions and a couple of other columns\n",
        "subset.head(3)"
      ]
    },
    {
      "cell_type": "code",
      "execution_count": null,
      "metadata": {
        "colab": {
          "base_uri": "https://localhost:8080/",
          "height": 35
        },
        "id": "kTiCnV7Nko5L",
        "outputId": "67cdf679-a18e-44b8-bb35-7582b8fe91b0"
      },
      "outputs": [
        {
          "output_type": "execute_result",
          "data": {
            "text/plain": [
              "'There are 3104 elements in the dataset'"
            ],
            "application/vnd.google.colaboratory.intrinsic+json": {
              "type": "string"
            }
          },
          "metadata": {},
          "execution_count": 6
        }
      ],
      "source": [
        "subset.to_csv(\"subset_data.csv\", index=False)\n",
        "f\"There are {len(subset)} elements in the dataset\""
      ]
    },
    {
      "cell_type": "markdown",
      "metadata": {
        "id": "TcLNKhgD75pm"
      },
      "source": [
        "## Image Retrieval\n",
        "\n",
        "How do we do retrieval?\n",
        "\n",
        "We encode a search query (e.g., \"A red dress\") with FashionCLIP text encoder and retrieve the closest image vectors through a simple dot product. The greater the value of the dot product, the more similar the text and the image are.\n",
        "\n",
        "<img src=\"https://miro.medium.com/v2/resize:fit:1400/1*cnKHgLAumVyuHuK9pkqr7A.gif\"  width=\"800\">\n"
      ]
    },
    {
      "cell_type": "markdown",
      "metadata": {
        "id": "rV3e8bLpBpAS"
      },
      "source": [
        "Ok now let's get all the images and all the captions, generate embeddings and then normalize the embeddings to unit norm."
      ]
    },
    {
      "cell_type": "code",
      "execution_count": null,
      "metadata": {
        "colab": {
          "base_uri": "https://localhost:8080/",
          "height": 53,
          "referenced_widgets": [
            "40b4ae8062114b14b5cec43021c6e5bf",
            "3aecbc4f352142e39b3abd1d1646bc69",
            "655ec36de75a491fb0686fca929b76fb",
            "72d0c16d07f04d51b910f528f5dbffc4",
            "f8817e34882e44f6a8440e811552810d",
            "f69e8de90cfc4cb987a3fc0b1aaf474c",
            "35135568a6454a7d9e7509ea4b81c73d",
            "3164c98aacb442e48b48c31bad9f5cb7",
            "22cdd8d340f7489b9a263821112e8e42",
            "0df8be84399a465db03ad7c049ea5247",
            "b93539e305ae4718adf2d7196bf58ddb"
          ]
        },
        "id": "cla9wews4eZg",
        "outputId": "1bdfb51d-64ef-4105-f72c-73eb1509cf3a"
      },
      "outputs": [
        {
          "output_type": "stream",
          "name": "stderr",
          "text": [
            "100%|██████████| 97/97 [03:50<00:00,  2.37s/it]\n"
          ]
        },
        {
          "output_type": "display_data",
          "data": {
            "text/plain": [
              "Map:   0%|          | 0/3104 [00:00<?, ? examples/s]"
            ],
            "application/vnd.jupyter.widget-view+json": {
              "version_major": 2,
              "version_minor": 0,
              "model_id": "40b4ae8062114b14b5cec43021c6e5bf"
            }
          },
          "metadata": {}
        },
        {
          "output_type": "stream",
          "name": "stderr",
          "text": [
            "100%|██████████| 97/97 [00:07<00:00, 13.22it/s]\n"
          ]
        }
      ],
      "source": [
        "images = [\"data_for_fashion_clip/\" + str(k) + \".jpg\" for k in subset[\"article_id\"].tolist()]\n",
        "texts = subset[\"detail_desc\"].tolist()\n",
        "\n",
        "# we create image embeddings and text embeddings\n",
        "image_embeddings = fclip.encode_images(images, batch_size=32)\n",
        "text_embeddings = fclip.encode_text(texts, batch_size=32)\n",
        "\n",
        "# we normalize the embeddings to unit norm (so that we can use dot product instead of cosine similarity to do comparisons)\n",
        "image_embeddings = image_embeddings/np.linalg.norm(image_embeddings, ord=2, axis=-1, keepdims=True)\n",
        "text_embeddings = text_embeddings/np.linalg.norm(text_embeddings, ord=2, axis=-1, keepdims=True)"
      ]
    },
    {
      "cell_type": "markdown",
      "metadata": {
        "id": "ZHQWIMzJ5xCb"
      },
      "source": [
        "Let's write a quick function to see how well our retrieval works! We are going to compute **precision@5**."
      ]
    },
    {
      "cell_type": "code",
      "execution_count": null,
      "metadata": {
        "id": "z5V_JIF81WAM",
        "colab": {
          "base_uri": "https://localhost:8080/"
        },
        "outputId": "891188c5-386c-4e6a-871a-feedbf602696"
      },
      "outputs": [
        {
          "output_type": "execute_result",
          "data": {
            "text/plain": [
              "0.54"
            ]
          },
          "metadata": {},
          "execution_count": 8
        }
      ],
      "source": [
        "precision = 0\n",
        "\n",
        "# we could batch this operation to make it faster\n",
        "for index, t in enumerate(text_embeddings):\n",
        "    arr = t.dot(image_embeddings.T)\n",
        "\n",
        "    best = arr.argsort()[-5:][::-1]\n",
        "\n",
        "    if index in best:\n",
        "        precision +=1\n",
        "\n",
        "round(precision/len(text_embeddings), 2)"
      ]
    },
    {
      "cell_type": "markdown",
      "metadata": {
        "id": "e7v6WUkWDCE6"
      },
      "source": [
        "Good! **0.54** on this completely unseen dataset is honestly a pretty good result! It means that more than half of the times, the product we are looking for is in the top 5 returned items.\n",
        "\n",
        "### Building a Toy Search Engine\n",
        "\n",
        "Let's now test our toy \"product search engine\". We will embed a textual query and then rank the images we have by similarity with the query vector.\n",
        "\n"
      ]
    },
    {
      "cell_type": "code",
      "execution_count": null,
      "metadata": {
        "id": "X5VNv1lx1rY1",
        "colab": {
          "base_uri": "https://localhost:8080/",
          "height": 259,
          "referenced_widgets": [
            "18962f9386ef43a299333922c3ddd0b8",
            "5b2a1641753447c08d44169c156bc2fd",
            "c7cfa8d303414a61bcf5b10e3d699990",
            "022e97f4c8bd46d4893db6f71c549aa6",
            "2edda1025b9e456e87f36f14576f9961",
            "b1c017dbda8e41e2847e453d2f91efac",
            "65a03748f9f247119ad96cc6f89e6d49",
            "fb8b157e2ebb45399d87d747b5745ebb",
            "4516f9fe97ab480a83b7963ca864c1fc",
            "122dea4f4fe046e084500da7b2ed5232",
            "369274641e1941eaa8122617ce18c478"
          ]
        },
        "outputId": "52e7c401-e83e-4302-ac06-993538bec1bf"
      },
      "outputs": [
        {
          "output_type": "display_data",
          "data": {
            "text/plain": [
              "Map:   0%|          | 0/1 [00:00<?, ? examples/s]"
            ],
            "application/vnd.jupyter.widget-view+json": {
              "version_major": 2,
              "version_minor": 0,
              "model_id": "18962f9386ef43a299333922c3ddd0b8"
            }
          },
          "metadata": {}
        },
        {
          "output_type": "stream",
          "name": "stderr",
          "text": [
            "1it [00:00, 50.95it/s]\n"
          ]
        },
        {
          "output_type": "execute_result",
          "data": {
            "text/plain": [
              "<PIL.Image.Image image mode=RGB size=297x224 at 0x7EFE50C43CA0>"
            ],
            "image/png": "[encoded data removed]"
          },
          "metadata": {},
          "execution_count": 9
        }
      ],
      "source": [
        "text_embedding = fclip.encode_text([\"a pair of pink shorts\"], 32)[0]\n",
        "\n",
        "id_of_matched_object = np.argmax(text_embedding.dot(image_embeddings.T))\n",
        "found_object = subset[\"article_id\"].iloc[id_of_matched_object].tolist()\n",
        "\n",
        "fixed_height = 224\n",
        "\n",
        "image = Image.open(f\"data_for_fashion_clip/{found_object}.jpg\")\n",
        "height_percent = (fixed_height / float(image.size[1]))\n",
        "width_size = int((float(image.size[0]) * float(height_percent)))\n",
        "image = image.resize((width_size, fixed_height), Image.NEAREST)\n",
        "\n",
        "image"
      ]
    },
    {
      "cell_type": "markdown",
      "metadata": {
        "id": "eU-krCddFFcF"
      },
      "source": [
        "Note that, if the query does not make sense - in this context - the model is not going to return anything useful."
      ]
    },
    {
      "cell_type": "code",
      "execution_count": null,
      "metadata": {
        "id": "CFAXbE17FBdK",
        "colab": {
          "base_uri": "https://localhost:8080/",
          "height": 259,
          "referenced_widgets": [
            "695a103c16144eb498454087753b8c47",
            "9ec9ece8aa894db99cea7fb7df8ad430",
            "13983e4c70bc41e5a6e89ce1011f4bec",
            "2ea74643f80d4893828eb0c3c27ebbf4",
            "342e8e669e56416eb350bd405f43a659",
            "e76da04cbeda4c429d5ac962cbff9db4",
            "d0b2e6160a7a4bc0a9bff03132fc620d",
            "0663200f795943058adf361af1d88a24",
            "2b7927d5eec84002bf2784bc4214eb5b",
            "42caf86183e045b7b34b757b36c5b11f",
            "64d530d753b0423aaf400309c5b3eea6"
          ]
        },
        "outputId": "db318557-3b4d-477a-f9e4-e32186407ecf"
      },
      "outputs": [
        {
          "output_type": "display_data",
          "data": {
            "text/plain": [
              "Map:   0%|          | 0/1 [00:00<?, ? examples/s]"
            ],
            "application/vnd.jupyter.widget-view+json": {
              "version_major": 2,
              "version_minor": 0,
              "model_id": "695a103c16144eb498454087753b8c47"
            }
          },
          "metadata": {}
        },
        {
          "output_type": "stream",
          "name": "stderr",
          "text": [
            "1it [00:00, 40.65it/s]\n"
          ]
        },
        {
          "output_type": "execute_result",
          "data": {
            "text/plain": [
              "<PIL.Image.Image image mode=RGB size=149x224 at 0x7EFE50BEC550>"
            ],
            "image/png": "[encoded data removed]"
          },
          "metadata": {},
          "execution_count": 10
        }
      ],
      "source": [
        "text_embedding = fclip.encode_text([\"a house\"], 32)[0]\n",
        "\n",
        "id_of_matched_object = np.argmax(text_embedding.dot(image_embeddings.T))\n",
        "found_object = subset[\"article_id\"].iloc[id_of_matched_object].tolist()\n",
        "\n",
        "fixed_height = 224\n",
        "\n",
        "image = Image.open(f\"data_for_fashion_clip/{found_object}.jpg\")\n",
        "height_percent = (fixed_height / float(image.size[1]))\n",
        "width_size = int((float(image.size[0]) * float(height_percent)))\n",
        "image = image.resize((width_size, fixed_height), Image.NEAREST)\n",
        "\n",
        "image"
      ]
    },
    {
      "cell_type": "markdown",
      "metadata": {
        "id": "87URDy7xh65d"
      },
      "source": [
        "# Zero Shot Classification\n",
        "\n",
        "ZeroShot classification is one of the most exciting applications of CLIP like models! We encode the image of a fashion item we want to classify with FashionCLIP’s image encoder and retrieve the closest label vectors through a dot product.\n",
        "\n",
        "<img src=\"https://miro.medium.com/v2/resize:fit:1400/1*No6ZONpQMIcfFaNMOI5oNw.gif\"  width=\"800\">\n",
        "\n"
      ]
    },
    {
      "cell_type": "code",
      "execution_count": null,
      "metadata": {
        "id": "kZbAxKKKiBvq",
        "colab": {
          "base_uri": "https://localhost:8080/"
        },
        "outputId": "ba92b9f9-3cb7-43b4-833b-7f76ac5bd03c"
      },
      "outputs": [
        {
          "output_type": "stream",
          "name": "stdout",
          "text": [
            "These are our labels: ['Vest top' 'Hair/alice band' 'Leggings/Tights' 'T-shirt' 'Sneakers'\n",
            " 'Sunglasses' 'Cardigan' 'Gloves' 'Underwear Tights' 'Hoodie' 'Other shoe'\n",
            " 'Shorts' 'Jumpsuit/Playsuit' 'Dress' 'Trousers' 'Belt' 'Socks'\n",
            " 'Underwear bottom' 'Bodysuit' 'Hat/beanie' 'Scarf' 'Jacket'\n",
            " 'Other accessories' 'Bra' 'Swimwear bottom' 'Blazer' 'Top' 'Polo shirt'\n",
            " 'Sweater' 'Necklace' 'Pyjama set' 'Blouse' 'Bag' 'Shirt' 'Coat' 'Boots'\n",
            " 'Skirt' 'Garment Set' 'Bikini top' 'Sandals' 'Dungarees' 'Earring'\n",
            " 'Cap/peaked' 'Ballerinas' 'Swimsuit' 'Hat/brim']\n"
          ]
        }
      ],
      "source": [
        "labels = subset[\"product_type_name\"].unique()\n",
        "print(f\"These are our labels: {labels}\")"
      ]
    },
    {
      "cell_type": "code",
      "execution_count": null,
      "metadata": {
        "id": "sGdYbWx9p3oB",
        "colab": {
          "base_uri": "https://localhost:8080/",
          "height": 35,
          "referenced_widgets": [
            "da96a0f6e6294bdf96f0551ca7db4844",
            "8f73bc54fe1a4b34a9258f5e8045a06a",
            "04ff693296b54690b13c8c74176f16c4",
            "7f345d2c03244ee79ae18590cbfc8bbc",
            "cc938a7e7c314c8f8f8a887aed608e63",
            "9c918e06d9914cc2ab68acf78cc01a4b",
            "a8574d70059d4fb49e1c1ce28b100dd8",
            "d4ec0e4bcaee4f85a13e16e828d2aafb",
            "44e2ef97a88948adada005bf34c20571",
            "c292ca2c26434b8a9374d9f2471bb5e7",
            "e2025ec491fd4a51bb77951a41078bfa"
          ]
        },
        "outputId": "88d4e7c0-0ae0-4207-c5c1-4e5e538dc847"
      },
      "outputs": [
        {
          "output_type": "display_data",
          "data": {
            "text/plain": [
              "Map:   0%|          | 0/46 [00:00<?, ? examples/s]"
            ],
            "application/vnd.jupyter.widget-view+json": {
              "version_major": 2,
              "version_minor": 0,
              "model_id": "da96a0f6e6294bdf96f0551ca7db4844"
            }
          },
          "metadata": {}
        },
        {
          "output_type": "stream",
          "name": "stderr",
          "text": [
            "2it [00:00, 11.02it/s]                       \n"
          ]
        }
      ],
      "source": [
        "labels_prompt = [f\"a photo of a {k}\" for k in labels]\n",
        "\n",
        "label_embeddings = fclip.encode_text(labels_prompt, batch_size=32)\n",
        "label_embeddings = label_embeddings/np.linalg.norm(label_embeddings, ord=2, axis=-1, keepdims=True)"
      ]
    },
    {
      "cell_type": "code",
      "execution_count": null,
      "metadata": {
        "id": "4SFckqe7msFn"
      },
      "outputs": [],
      "source": [
        "# let's compute the class distribution for all images\n",
        "predicted_classes_distribution = label_embeddings.dot(image_embeddings.T)"
      ]
    },
    {
      "cell_type": "code",
      "execution_count": null,
      "metadata": {
        "id": "WjsDedBFm1VQ"
      },
      "outputs": [],
      "source": [
        "# let's take the best label (the most similar to the image)\n",
        "predicted = [labels[k] for k in np.argmax(predicted_classes_distribution, axis=0)]"
      ]
    },
    {
      "cell_type": "code",
      "execution_count": null,
      "metadata": {
        "id": "B2PulVuMnB7J",
        "colab": {
          "base_uri": "https://localhost:8080/"
        },
        "outputId": "0d7dff92-153c-4c73-e4ce-7ab9853f34d3"
      },
      "outputs": [
        {
          "output_type": "stream",
          "name": "stdout",
          "text": [
            "                   precision    recall  f1-score   support\n",
            "\n",
            "              Bag       0.97      0.88      0.92        40\n",
            "       Ballerinas       0.67      0.15      0.25        13\n",
            "             Belt       0.80      0.92      0.86        13\n",
            "       Bikini top       0.68      0.73      0.70        37\n",
            "           Blazer       0.94      0.84      0.89        38\n",
            "           Blouse       0.47      0.79      0.59       135\n",
            "         Bodysuit       0.53      0.64      0.58        25\n",
            "            Boots       0.91      0.65      0.75        31\n",
            "              Bra       0.90      0.77      0.83        60\n",
            "       Cap/peaked       0.95      0.86      0.90        21\n",
            "         Cardigan       0.58      0.86      0.69        49\n",
            "             Coat       0.17      0.92      0.29        12\n",
            "            Dress       0.92      0.77      0.84       293\n",
            "        Dungarees       0.32      0.67      0.43        12\n",
            "          Earring       0.98      0.84      0.90        55\n",
            "      Garment Set       0.71      0.18      0.29        28\n",
            "           Gloves       1.00      0.93      0.97        15\n",
            "  Hair/alice band       0.83      0.79      0.81        24\n",
            "       Hat/beanie       0.94      0.80      0.87        41\n",
            "         Hat/brim       0.76      0.87      0.81        15\n",
            "           Hoodie       0.68      0.93      0.79        71\n",
            "           Jacket       0.92      0.54      0.68       101\n",
            "Jumpsuit/Playsuit       0.33      0.30      0.32        33\n",
            "  Leggings/Tights       0.71      0.54      0.61        63\n",
            "         Necklace       0.79      0.90      0.84        21\n",
            "Other accessories       0.39      0.32      0.35        34\n",
            "       Other shoe       0.31      0.81      0.45        16\n",
            "       Polo shirt       0.67      0.92      0.77        13\n",
            "       Pyjama set       0.42      0.95      0.58        37\n",
            "          Sandals       0.86      1.00      0.92        24\n",
            "            Scarf       0.67      0.91      0.77        33\n",
            "            Shirt       0.38      0.74      0.50        72\n",
            "           Shorts       0.75      0.87      0.81       138\n",
            "            Skirt       0.91      0.90      0.90       111\n",
            "         Sneakers       0.95      0.79      0.86        66\n",
            "            Socks       0.89      0.98      0.93        41\n",
            "       Sunglasses       0.92      1.00      0.96        11\n",
            "          Sweater       0.84      0.81      0.82       313\n",
            "         Swimsuit       0.47      0.79      0.59        19\n",
            "  Swimwear bottom       0.51      0.63      0.56        38\n",
            "          T-shirt       0.84      0.60      0.70       226\n",
            "              Top       0.00      0.00      0.00       141\n",
            "         Trousers       0.91      0.85      0.88       340\n",
            " Underwear Tights       0.43      0.55      0.48        11\n",
            " Underwear bottom       0.95      0.68      0.79        81\n",
            "         Vest top       0.69      0.77      0.73        93\n",
            "\n",
            "         accuracy                           0.73      3104\n",
            "        macro avg       0.70      0.74      0.69      3104\n",
            "     weighted avg       0.75      0.73      0.73      3104\n",
            "\n"
          ]
        }
      ],
      "source": [
        "print(classification_report(subset[\"product_type_name\"], predicted))"
      ]
    },
    {
      "cell_type": "markdown",
      "metadata": {
        "id": "iE4Kgt_DqG4A"
      },
      "source": [
        "Results look good! **0.69** in Macro F1 on many classes **without the need of training anything**!!\n",
        "\n",
        "There are a couple of classes in which we don't do well, for example **Top** and it might be because in English it's an ambigous term.\n",
        "\n",
        "Moreover, I haven't actually searched for a prompt that works well and some of the classes contain a \"\\\" in the name that might complicate the prediction.\n",
        "\n",
        "Anyway, considering that we did this without studying the data much, we got a pretty good performance!"
      ]
    },
    {
      "cell_type": "markdown",
      "metadata": {
        "id": "O4r6m49W1WTn"
      },
      "source": [
        "# Feature Extraction for Supervised Learning\n",
        "\n",
        "Finally, let's do some classification with the image features we have extracted before. We will use the features to train a linear classifier and see how it performs!\n",
        "\n"
      ]
    },
    {
      "cell_type": "code",
      "execution_count": null,
      "metadata": {
        "id": "qYX4S4zX8Q_D"
      },
      "outputs": [],
      "source": [
        "classes = subset[\"product_group_name\"].tolist()\n",
        "X_train, X_test, y_train, y_test = train_test_split(image_embeddings, classes, test_size=0.20, random_state=32, stratify=classes)"
      ]
    },
    {
      "cell_type": "code",
      "execution_count": null,
      "metadata": {
        "id": "16vqd6Gf8y48"
      },
      "outputs": [],
      "source": [
        "clf = LogisticRegression(random_state=0, class_weight=\"balanced\").fit(X_train, y_train)"
      ]
    },
    {
      "cell_type": "code",
      "execution_count": null,
      "metadata": {
        "id": "hVtH8WS7851f",
        "colab": {
          "base_uri": "https://localhost:8080/"
        },
        "outputId": "2bbbfc2c-b55b-4d51-ab7a-ec08bef189aa"
      },
      "outputs": [
        {
          "output_type": "stream",
          "name": "stdout",
          "text": [
            "                    precision    recall  f1-score   support\n",
            "\n",
            "       Accessories       0.86      1.00      0.92        65\n",
            " Garment Full body       0.69      0.95      0.80        73\n",
            "Garment Lower body       0.98      0.94      0.96       131\n",
            "Garment Upper body       1.00      0.85      0.92       258\n",
            "         Nightwear       0.58      1.00      0.74         7\n",
            "             Shoes       1.00      0.90      0.95        30\n",
            "    Socks & Tights       0.75      0.90      0.82        10\n",
            "          Swimwear       0.65      0.68      0.67        19\n",
            "         Underwear       0.96      0.96      0.96        28\n",
            "\n",
            "          accuracy                           0.90       621\n",
            "         macro avg       0.83      0.91      0.86       621\n",
            "      weighted avg       0.92      0.90      0.91       621\n",
            "\n"
          ]
        }
      ],
      "source": [
        "print(classification_report(y_test, clf.predict(X_test)))"
      ]
    },
    {
      "cell_type": "markdown",
      "metadata": {
        "id": "0u1z1vu6q6t4"
      },
      "source": [
        "We slightly under perform on Nightwear, but probably because we don't have much data. But the classifier works really well!\n",
        "\n",
        "\n",
        "Note: If you do this with **product_type_name** you are going to get a Macro F1 0.86 (that is better than the zero-shot one!)."
      ]
    },
    {
      "cell_type": "markdown",
      "metadata": {
        "id": "cOrcmZEB_ffg"
      },
      "source": [
        "### Visualizing Image Embeddings in the Latent Space\n",
        "\n",
        "To address our use cases, we assume FashionCLIP embeds images in the latent space following an underlying semantics. Let's use a dimensionality reduction algorithm to visualize that.\n",
        "\n",
        "UMAP is a well-known dimension reduction algorithm that works out-of-the-box on multidimensional data. Through UMAP, we can remap our image embeddings into a 2D space and plot it as a scatterplot."
      ]
    },
    {
      "cell_type": "code",
      "execution_count": null,
      "metadata": {
        "colab": {
          "base_uri": "https://localhost:8080/"
        },
        "id": "ncrbsEa6_kyi",
        "outputId": "f176328b-e61f-4fda-fae2-1786eb6ebaa8"
      },
      "outputs": [
        {
          "output_type": "stream",
          "name": "stdout",
          "text": [
            "Looking in indexes: https://pypi.org/simple, https://us-python.pkg.dev/colab-wheels/public/simple/\n",
            "Requirement already satisfied: umap-learn in /usr/local/lib/python3.10/dist-packages (0.5.3)\n",
            "Requirement already satisfied: numpy>=1.17 in /usr/local/lib/python3.10/dist-packages (from umap-learn) (1.22.4)\n",
            "Requirement already satisfied: scikit-learn>=0.22 in /usr/local/lib/python3.10/dist-packages (from umap-learn) (1.2.2)\n",
            "Requirement already satisfied: scipy>=1.0 in /usr/local/lib/python3.10/dist-packages (from umap-learn) (1.10.1)\n",
            "Requirement already satisfied: numba>=0.49 in /usr/local/lib/python3.10/dist-packages (from umap-learn) (0.56.4)\n",
            "Requirement already satisfied: pynndescent>=0.5 in /usr/local/lib/python3.10/dist-packages (from umap-learn) (0.5.10)\n",
            "Requirement already satisfied: tqdm in /usr/local/lib/python3.10/dist-packages (from umap-learn) (4.65.0)\n",
            "Requirement already satisfied: llvmlite<0.40,>=0.39.0dev0 in /usr/local/lib/python3.10/dist-packages (from numba>=0.49->umap-learn) (0.39.1)\n",
            "Requirement already satisfied: setuptools in /usr/local/lib/python3.10/dist-packages (from numba>=0.49->umap-learn) (67.7.2)\n",
            "Requirement already satisfied: joblib>=0.11 in /usr/local/lib/python3.10/dist-packages (from pynndescent>=0.5->umap-learn) (1.2.0)\n",
            "Requirement already satisfied: threadpoolctl>=2.0.0 in /usr/local/lib/python3.10/dist-packages (from scikit-learn>=0.22->umap-learn) (3.1.0)\n"
          ]
        }
      ],
      "source": [
        "!pip install umap-learn\n",
        "\n",
        "import umap\n",
        "\n",
        "reducer = umap.UMAP()"
      ]
    },
    {
      "cell_type": "code",
      "execution_count": null,
      "metadata": {
        "id": "0si3bC8d_tUS"
      },
      "outputs": [],
      "source": [
        "umap_embeddings = reducer.fit_transform(image_embeddings)"
      ]
    },
    {
      "cell_type": "code",
      "execution_count": null,
      "metadata": {
        "id": "en7yaftDAYT8"
      },
      "outputs": [],
      "source": [
        "# shape: (number of images, 2)\n",
        "umap_embeddings.shape"
      ]
    },
    {
      "cell_type": "code",
      "execution_count": null,
      "metadata": {
        "id": "CytCtBtD__Zj"
      },
      "outputs": [],
      "source": [
        "umap.plot.points(reducer, labels=np.array(classes))"
      ]
    },
    {
      "cell_type": "markdown",
      "metadata": {
        "id": "3D7Y7VkDIfw4"
      },
      "source": [
        "UMAP reduction highlights interesting things:\n",
        "- distinct fashion categories cluster in distinct regions of the space;\n",
        "- shoes, accessories, socks & tights are well separated from garnments images."
      ]
    }
  ],
  "metadata": {
    "accelerator": "GPU",
    "colab": {
      "provenance": [],
      "include_colab_link": true
    },
    "gpuClass": "standard",
    "kernelspec": {
      "display_name": "Python 3",
      "name": "python3"
    },
    "language_info": {
      "name": "python"
    },
    "widgets": {
      "application/vnd.jupyter.widget-state+json": {
        "40b4ae8062114b14b5cec43021c6e5bf": {
          "model_module": "@jupyter-widgets/controls",
          "model_name": "HBoxModel",
          "model_module_version": "1.5.0",
          "state": {
            "_dom_classes": [],
            "_model_module": "@jupyter-widgets/controls",
            "_model_module_version": "1.5.0",
            "_model_name": "HBoxModel",
            "_view_count": null,
            "_view_module": "@jupyter-widgets/controls",
            "_view_module_version": "1.5.0",
            "_view_name": "HBoxView",
            "box_style": "",
            "children": [
              "IPY_MODEL_3aecbc4f352142e39b3abd1d1646bc69",
              "IPY_MODEL_655ec36de75a491fb0686fca929b76fb",
              "IPY_MODEL_72d0c16d07f04d51b910f528f5dbffc4"
            ],
            "layout": "IPY_MODEL_f8817e34882e44f6a8440e811552810d"
          }
        },
        "3aecbc4f352142e39b3abd1d1646bc69": {
          "model_module": "@jupyter-widgets/controls",
          "model_name": "HTMLModel",
          "model_module_version": "1.5.0",
          "state": {
            "_dom_classes": [],
            "_model_module": "@jupyter-widgets/controls",
            "_model_module_version": "1.5.0",
            "_model_name": "HTMLModel",
            "_view_count": null,
            "_view_module": "@jupyter-widgets/controls",
            "_view_module_version": "1.5.0",
            "_view_name": "HTMLView",
            "description": "",
            "description_tooltip": null,
            "layout": "IPY_MODEL_f69e8de90cfc4cb987a3fc0b1aaf474c",
            "placeholder": "​",
            "style": "IPY_MODEL_35135568a6454a7d9e7509ea4b81c73d",
            "value": "Map:  97%"
          }
        },
        "655ec36de75a491fb0686fca929b76fb": {
          "model_module": "@jupyter-widgets/controls",
          "model_name": "FloatProgressModel",
          "model_module_version": "1.5.0",
          "state": {
            "_dom_classes": [],
            "_model_module": "@jupyter-widgets/controls",
            "_model_module_version": "1.5.0",
            "_model_name": "FloatProgressModel",
            "_view_count": null,
            "_view_module": "@jupyter-widgets/controls",
            "_view_module_version": "1.5.0",
            "_view_name": "ProgressView",
            "bar_style": "",
            "description": "",
            "description_tooltip": null,
            "layout": "IPY_MODEL_3164c98aacb442e48b48c31bad9f5cb7",
            "max": 3104,
            "min": 0,
            "orientation": "horizontal",
            "style": "IPY_MODEL_22cdd8d340f7489b9a263821112e8e42",
            "value": 3104
          }
        },
        "72d0c16d07f04d51b910f528f5dbffc4": {
          "model_module": "@jupyter-widgets/controls",
          "model_name": "HTMLModel",
          "model_module_version": "1.5.0",
          "state": {
            "_dom_classes": [],
            "_model_module": "@jupyter-widgets/controls",
            "_model_module_version": "1.5.0",
            "_model_name": "HTMLModel",
            "_view_count": null,
            "_view_module": "@jupyter-widgets/controls",
            "_view_module_version": "1.5.0",
            "_view_name": "HTMLView",
            "description": "",
            "description_tooltip": null,
            "layout": "IPY_MODEL_0df8be84399a465db03ad7c049ea5247",
            "placeholder": "​",
            "style": "IPY_MODEL_b93539e305ae4718adf2d7196bf58ddb",
            "value": " 3000/3104 [00:00&lt;00:00, 6321.41 examples/s]"
          }
        },
        "f8817e34882e44f6a8440e811552810d": {
          "model_module": "@jupyter-widgets/base",
          "model_name": "LayoutModel",
          "model_module_version": "1.2.0",
          "state": {
            "_model_module": "@jupyter-widgets/base",
            "_model_module_version": "1.2.0",
            "_model_name": "LayoutModel",
            "_view_count": null,
            "_view_module": "@jupyter-widgets/base",
            "_view_module_version": "1.2.0",
            "_view_name": "LayoutView",
            "align_content": null,
            "align_items": null,
            "align_self": null,
            "border": null,
            "bottom": null,
            "display": null,
            "flex": null,
            "flex_flow": null,
            "grid_area": null,
            "grid_auto_columns": null,
            "grid_auto_flow": null,
            "grid_auto_rows": null,
            "grid_column": null,
            "grid_gap": null,
            "grid_row": null,
            "grid_template_areas": null,
            "grid_template_columns": null,
            "grid_template_rows": null,
            "height": null,
            "justify_content": null,
            "justify_items": null,
            "left": null,
            "margin": null,
            "max_height": null,
            "max_width": null,
            "min_height": null,
            "min_width": null,
            "object_fit": null,
            "object_position": null,
            "order": null,
            "overflow": null,
            "overflow_x": null,
            "overflow_y": null,
            "padding": null,
            "right": null,
            "top": null,
            "visibility": "hidden",
            "width": null
          }
        },
        "f69e8de90cfc4cb987a3fc0b1aaf474c": {
          "model_module": "@jupyter-widgets/base",
          "model_name": "LayoutModel",
          "model_module_version": "1.2.0",
          "state": {
            "_model_module": "@jupyter-widgets/base",
            "_model_module_version": "1.2.0",
            "_model_name": "LayoutModel",
            "_view_count": null,
            "_view_module": "@jupyter-widgets/base",
            "_view_module_version": "1.2.0",
            "_view_name": "LayoutView",
            "align_content": null,
            "align_items": null,
            "align_self": null,
            "border": null,
            "bottom": null,
            "display": null,
            "flex": null,
            "flex_flow": null,
            "grid_area": null,
            "grid_auto_columns": null,
            "grid_auto_flow": null,
            "grid_auto_rows": null,
            "grid_column": null,
            "grid_gap": null,
            "grid_row": null,
            "grid_template_areas": null,
            "grid_template_columns": null,
            "grid_template_rows": null,
            "height": null,
            "justify_content": null,
            "justify_items": null,
            "left": null,
            "margin": null,
            "max_height": null,
            "max_width": null,
            "min_height": null,
            "min_width": null,
            "object_fit": null,
            "object_position": null,
            "order": null,
            "overflow": null,
            "overflow_x": null,
            "overflow_y": null,
            "padding": null,
            "right": null,
            "top": null,
            "visibility": null,
            "width": null
          }
        },
        "35135568a6454a7d9e7509ea4b81c73d": {
          "model_module": "@jupyter-widgets/controls",
          "model_name": "DescriptionStyleModel",
          "model_module_version": "1.5.0",
          "state": {
            "_model_module": "@jupyter-widgets/controls",
            "_model_module_version": "1.5.0",
            "_model_name": "DescriptionStyleModel",
            "_view_count": null,
            "_view_module": "@jupyter-widgets/base",
            "_view_module_version": "1.2.0",
            "_view_name": "StyleView",
            "description_width": ""
          }
        },
        "3164c98aacb442e48b48c31bad9f5cb7": {
          "model_module": "@jupyter-widgets/base",
          "model_name": "LayoutModel",
          "model_module_version": "1.2.0",
          "state": {
            "_model_module": "@jupyter-widgets/base",
            "_model_module_version": "1.2.0",
            "_model_name": "LayoutModel",
            "_view_count": null,
            "_view_module": "@jupyter-widgets/base",
            "_view_module_version": "1.2.0",
            "_view_name": "LayoutView",
            "align_content": null,
            "align_items": null,
            "align_self": null,
            "border": null,
            "bottom": null,
            "display": null,
            "flex": null,
            "flex_flow": null,
            "grid_area": null,
            "grid_auto_columns": null,
            "grid_auto_flow": null,
            "grid_auto_rows": null,
            "grid_column": null,
            "grid_gap": null,
            "grid_row": null,
            "grid_template_areas": null,
            "grid_template_columns": null,
            "grid_template_rows": null,
            "height": null,
            "justify_content": null,
            "justify_items": null,
            "left": null,
            "margin": null,
            "max_height": null,
            "max_width": null,
            "min_height": null,
            "min_width": null,
            "object_fit": null,
            "object_position": null,
            "order": null,
            "overflow": null,
            "overflow_x": null,
            "overflow_y": null,
            "padding": null,
            "right": null,
            "top": null,
            "visibility": null,
            "width": null
          }
        },
        "22cdd8d340f7489b9a263821112e8e42": {
          "model_module": "@jupyter-widgets/controls",
          "model_name": "ProgressStyleModel",
          "model_module_version": "1.5.0",
          "state": {
            "_model_module": "@jupyter-widgets/controls",
            "_model_module_version": "1.5.0",
            "_model_name": "ProgressStyleModel",
            "_view_count": null,
            "_view_module": "@jupyter-widgets/base",
            "_view_module_version": "1.2.0",
            "_view_name": "StyleView",
            "bar_color": null,
            "description_width": ""
          }
        },
        "0df8be84399a465db03ad7c049ea5247": {
          "model_module": "@jupyter-widgets/base",
          "model_name": "LayoutModel",
          "model_module_version": "1.2.0",
          "state": {
            "_model_module": "@jupyter-widgets/base",
            "_model_module_version": "1.2.0",
            "_model_name": "LayoutModel",
            "_view_count": null,
            "_view_module": "@jupyter-widgets/base",
            "_view_module_version": "1.2.0",
            "_view_name": "LayoutView",
            "align_content": null,
            "align_items": null,
            "align_self": null,
            "border": null,
            "bottom": null,
            "display": null,
            "flex": null,
            "flex_flow": null,
            "grid_area": null,
            "grid_auto_columns": null,
            "grid_auto_flow": null,
            "grid_auto_rows": null,
            "grid_column": null,
            "grid_gap": null,
            "grid_row": null,
            "grid_template_areas": null,
            "grid_template_columns": null,
            "grid_template_rows": null,
            "height": null,
            "justify_content": null,
            "justify_items": null,
            "left": null,
            "margin": null,
            "max_height": null,
            "max_width": null,
            "min_height": null,
            "min_width": null,
            "object_fit": null,
            "object_position": null,
            "order": null,
            "overflow": null,
            "overflow_x": null,
            "overflow_y": null,
            "padding": null,
            "right": null,
            "top": null,
            "visibility": null,
            "width": null
          }
        },
        "b93539e305ae4718adf2d7196bf58ddb": {
          "model_module": "@jupyter-widgets/controls",
          "model_name": "DescriptionStyleModel",
          "model_module_version": "1.5.0",
          "state": {
            "_model_module": "@jupyter-widgets/controls",
            "_model_module_version": "1.5.0",
            "_model_name": "DescriptionStyleModel",
            "_view_count": null,
            "_view_module": "@jupyter-widgets/base",
            "_view_module_version": "1.2.0",
            "_view_name": "StyleView",
            "description_width": ""
          }
        },
        "18962f9386ef43a299333922c3ddd0b8": {
          "model_module": "@jupyter-widgets/controls",
          "model_name": "HBoxModel",
          "model_module_version": "1.5.0",
          "state": {
            "_dom_classes": [],
            "_model_module": "@jupyter-widgets/controls",
            "_model_module_version": "1.5.0",
            "_model_name": "HBoxModel",
            "_view_count": null,
            "_view_module": "@jupyter-widgets/controls",
            "_view_module_version": "1.5.0",
            "_view_name": "HBoxView",
            "box_style": "",
            "children": [
              "IPY_MODEL_5b2a1641753447c08d44169c156bc2fd",
              "IPY_MODEL_c7cfa8d303414a61bcf5b10e3d699990",
              "IPY_MODEL_022e97f4c8bd46d4893db6f71c549aa6"
            ],
            "layout": "IPY_MODEL_2edda1025b9e456e87f36f14576f9961"
          }
        },
        "5b2a1641753447c08d44169c156bc2fd": {
          "model_module": "@jupyter-widgets/controls",
          "model_name": "HTMLModel",
          "model_module_version": "1.5.0",
          "state": {
            "_dom_classes": [],
            "_model_module": "@jupyter-widgets/controls",
            "_model_module_version": "1.5.0",
            "_model_name": "HTMLModel",
            "_view_count": null,
            "_view_module": "@jupyter-widgets/controls",
            "_view_module_version": "1.5.0",
            "_view_name": "HTMLView",
            "description": "",
            "description_tooltip": null,
            "layout": "IPY_MODEL_b1c017dbda8e41e2847e453d2f91efac",
            "placeholder": "​",
            "style": "IPY_MODEL_65a03748f9f247119ad96cc6f89e6d49",
            "value": "Map:   0%"
          }
        },
        "c7cfa8d303414a61bcf5b10e3d699990": {
          "model_module": "@jupyter-widgets/controls",
          "model_name": "FloatProgressModel",
          "model_module_version": "1.5.0",
          "state": {
            "_dom_classes": [],
            "_model_module": "@jupyter-widgets/controls",
            "_model_module_version": "1.5.0",
            "_model_name": "FloatProgressModel",
            "_view_count": null,
            "_view_module": "@jupyter-widgets/controls",
            "_view_module_version": "1.5.0",
            "_view_name": "ProgressView",
            "bar_style": "",
            "description": "",
            "description_tooltip": null,
            "layout": "IPY_MODEL_fb8b157e2ebb45399d87d747b5745ebb",
            "max": 1,
            "min": 0,
            "orientation": "horizontal",
            "style": "IPY_MODEL_4516f9fe97ab480a83b7963ca864c1fc",
            "value": 1
          }
        },
        "022e97f4c8bd46d4893db6f71c549aa6": {
          "model_module": "@jupyter-widgets/controls",
          "model_name": "HTMLModel",
          "model_module_version": "1.5.0",
          "state": {
            "_dom_classes": [],
            "_model_module": "@jupyter-widgets/controls",
            "_model_module_version": "1.5.0",
            "_model_name": "HTMLModel",
            "_view_count": null,
            "_view_module": "@jupyter-widgets/controls",
            "_view_module_version": "1.5.0",
            "_view_name": "HTMLView",
            "description": "",
            "description_tooltip": null,
            "layout": "IPY_MODEL_122dea4f4fe046e084500da7b2ed5232",
            "placeholder": "​",
            "style": "IPY_MODEL_369274641e1941eaa8122617ce18c478",
            "value": " 0/1 [00:00&lt;?, ? examples/s]"
          }
        },
        "2edda1025b9e456e87f36f14576f9961": {
          "model_module": "@jupyter-widgets/base",
          "model_name": "LayoutModel",
          "model_module_version": "1.2.0",
          "state": {
            "_model_module": "@jupyter-widgets/base",
            "_model_module_version": "1.2.0",
            "_model_name": "LayoutModel",
            "_view_count": null,
            "_view_module": "@jupyter-widgets/base",
            "_view_module_version": "1.2.0",
            "_view_name": "LayoutView",
            "align_content": null,
            "align_items": null,
            "align_self": null,
            "border": null,
            "bottom": null,
            "display": null,
            "flex": null,
            "flex_flow": null,
            "grid_area": null,
            "grid_auto_columns": null,
            "grid_auto_flow": null,
            "grid_auto_rows": null,
            "grid_column": null,
            "grid_gap": null,
            "grid_row": null,
            "grid_template_areas": null,
            "grid_template_columns": null,
            "grid_template_rows": null,
            "height": null,
            "justify_content": null,
            "justify_items": null,
            "left": null,
            "margin": null,
            "max_height": null,
            "max_width": null,
            "min_height": null,
            "min_width": null,
            "object_fit": null,
            "object_position": null,
            "order": null,
            "overflow": null,
            "overflow_x": null,
            "overflow_y": null,
            "padding": null,
            "right": null,
            "top": null,
            "visibility": "hidden",
            "width": null
          }
        },
        "b1c017dbda8e41e2847e453d2f91efac": {
          "model_module": "@jupyter-widgets/base",
          "model_name": "LayoutModel",
          "model_module_version": "1.2.0",
          "state": {
            "_model_module": "@jupyter-widgets/base",
            "_model_module_version": "1.2.0",
            "_model_name": "LayoutModel",
            "_view_count": null,
            "_view_module": "@jupyter-widgets/base",
            "_view_module_version": "1.2.0",
            "_view_name": "LayoutView",
            "align_content": null,
            "align_items": null,
            "align_self": null,
            "border": null,
            "bottom": null,
            "display": null,
            "flex": null,
            "flex_flow": null,
            "grid_area": null,
            "grid_auto_columns": null,
            "grid_auto_flow": null,
            "grid_auto_rows": null,
            "grid_column": null,
            "grid_gap": null,
            "grid_row": null,
            "grid_template_areas": null,
            "grid_template_columns": null,
            "grid_template_rows": null,
            "height": null,
            "justify_content": null,
            "justify_items": null,
            "left": null,
            "margin": null,
            "max_height": null,
            "max_width": null,
            "min_height": null,
            "min_width": null,
            "object_fit": null,
            "object_position": null,
            "order": null,
            "overflow": null,
            "overflow_x": null,
            "overflow_y": null,
            "padding": null,
            "right": null,
            "top": null,
            "visibility": null,
            "width": null
          }
        },
        "65a03748f9f247119ad96cc6f89e6d49": {
          "model_module": "@jupyter-widgets/controls",
          "model_name": "DescriptionStyleModel",
          "model_module_version": "1.5.0",
          "state": {
            "_model_module": "@jupyter-widgets/controls",
            "_model_module_version": "1.5.0",
            "_model_name": "DescriptionStyleModel",
            "_view_count": null,
            "_view_module": "@jupyter-widgets/base",
            "_view_module_version": "1.2.0",
            "_view_name": "StyleView",
            "description_width": ""
          }
        },
        "fb8b157e2ebb45399d87d747b5745ebb": {
          "model_module": "@jupyter-widgets/base",
          "model_name": "LayoutModel",
          "model_module_version": "1.2.0",
          "state": {
            "_model_module": "@jupyter-widgets/base",
            "_model_module_version": "1.2.0",
            "_model_name": "LayoutModel",
            "_view_count": null,
            "_view_module": "@jupyter-widgets/base",
            "_view_module_version": "1.2.0",
            "_view_name": "LayoutView",
            "align_content": null,
            "align_items": null,
            "align_self": null,
            "border": null,
            "bottom": null,
            "display": null,
            "flex": null,
            "flex_flow": null,
            "grid_area": null,
            "grid_auto_columns": null,
            "grid_auto_flow": null,
            "grid_auto_rows": null,
            "grid_column": null,
            "grid_gap": null,
            "grid_row": null,
            "grid_template_areas": null,
            "grid_template_columns": null,
            "grid_template_rows": null,
            "height": null,
            "justify_content": null,
            "justify_items": null,
            "left": null,
            "margin": null,
            "max_height": null,
            "max_width": null,
            "min_height": null,
            "min_width": null,
            "object_fit": null,
            "object_position": null,
            "order": null,
            "overflow": null,
            "overflow_x": null,
            "overflow_y": null,
            "padding": null,
            "right": null,
            "top": null,
            "visibility": null,
            "width": null
          }
        },
        "4516f9fe97ab480a83b7963ca864c1fc": {
          "model_module": "@jupyter-widgets/controls",
          "model_name": "ProgressStyleModel",
          "model_module_version": "1.5.0",
          "state": {
            "_model_module": "@jupyter-widgets/controls",
            "_model_module_version": "1.5.0",
            "_model_name": "ProgressStyleModel",
            "_view_count": null,
            "_view_module": "@jupyter-widgets/base",
            "_view_module_version": "1.2.0",
            "_view_name": "StyleView",
            "bar_color": null,
            "description_width": ""
          }
        },
        "122dea4f4fe046e084500da7b2ed5232": {
          "model_module": "@jupyter-widgets/base",
          "model_name": "LayoutModel",
          "model_module_version": "1.2.0",
          "state": {
            "_model_module": "@jupyter-widgets/base",
            "_model_module_version": "1.2.0",
            "_model_name": "LayoutModel",
            "_view_count": null,
            "_view_module": "@jupyter-widgets/base",
            "_view_module_version": "1.2.0",
            "_view_name": "LayoutView",
            "align_content": null,
            "align_items": null,
            "align_self": null,
            "border": null,
            "bottom": null,
            "display": null,
            "flex": null,
            "flex_flow": null,
            "grid_area": null,
            "grid_auto_columns": null,
            "grid_auto_flow": null,
            "grid_auto_rows": null,
            "grid_column": null,
            "grid_gap": null,
            "grid_row": null,
            "grid_template_areas": null,
            "grid_template_columns": null,
            "grid_template_rows": null,
            "height": null,
            "justify_content": null,
            "justify_items": null,
            "left": null,
            "margin": null,
            "max_height": null,
            "max_width": null,
            "min_height": null,
            "min_width": null,
            "object_fit": null,
            "object_position": null,
            "order": null,
            "overflow": null,
            "overflow_x": null,
            "overflow_y": null,
            "padding": null,
            "right": null,
            "top": null,
            "visibility": null,
            "width": null
          }
        },
        "369274641e1941eaa8122617ce18c478": {
          "model_module": "@jupyter-widgets/controls",
          "model_name": "DescriptionStyleModel",
          "model_module_version": "1.5.0",
          "state": {
            "_model_module": "@jupyter-widgets/controls",
            "_model_module_version": "1.5.0",
            "_model_name": "DescriptionStyleModel",
            "_view_count": null,
            "_view_module": "@jupyter-widgets/base",
            "_view_module_version": "1.2.0",
            "_view_name": "StyleView",
            "description_width": ""
          }
        },
        "695a103c16144eb498454087753b8c47": {
          "model_module": "@jupyter-widgets/controls",
          "model_name": "HBoxModel",
          "model_module_version": "1.5.0",
          "state": {
            "_dom_classes": [],
            "_model_module": "@jupyter-widgets/controls",
            "_model_module_version": "1.5.0",
            "_model_name": "HBoxModel",
            "_view_count": null,
            "_view_module": "@jupyter-widgets/controls",
            "_view_module_version": "1.5.0",
            "_view_name": "HBoxView",
            "box_style": "",
            "children": [
              "IPY_MODEL_9ec9ece8aa894db99cea7fb7df8ad430",
              "IPY_MODEL_13983e4c70bc41e5a6e89ce1011f4bec",
              "IPY_MODEL_2ea74643f80d4893828eb0c3c27ebbf4"
            ],
            "layout": "IPY_MODEL_342e8e669e56416eb350bd405f43a659"
          }
        },
        "9ec9ece8aa894db99cea7fb7df8ad430": {
          "model_module": "@jupyter-widgets/controls",
          "model_name": "HTMLModel",
          "model_module_version": "1.5.0",
          "state": {
            "_dom_classes": [],
            "_model_module": "@jupyter-widgets/controls",
            "_model_module_version": "1.5.0",
            "_model_name": "HTMLModel",
            "_view_count": null,
            "_view_module": "@jupyter-widgets/controls",
            "_view_module_version": "1.5.0",
            "_view_name": "HTMLView",
            "description": "",
            "description_tooltip": null,
            "layout": "IPY_MODEL_e76da04cbeda4c429d5ac962cbff9db4",
            "placeholder": "​",
            "style": "IPY_MODEL_d0b2e6160a7a4bc0a9bff03132fc620d",
            "value": "Map:   0%"
          }
        },
        "13983e4c70bc41e5a6e89ce1011f4bec": {
          "model_module": "@jupyter-widgets/controls",
          "model_name": "FloatProgressModel",
          "model_module_version": "1.5.0",
          "state": {
            "_dom_classes": [],
            "_model_module": "@jupyter-widgets/controls",
            "_model_module_version": "1.5.0",
            "_model_name": "FloatProgressModel",
            "_view_count": null,
            "_view_module": "@jupyter-widgets/controls",
            "_view_module_version": "1.5.0",
            "_view_name": "ProgressView",
            "bar_style": "",
            "description": "",
            "description_tooltip": null,
            "layout": "IPY_MODEL_0663200f795943058adf361af1d88a24",
            "max": 1,
            "min": 0,
            "orientation": "horizontal",
            "style": "IPY_MODEL_2b7927d5eec84002bf2784bc4214eb5b",
            "value": 1
          }
        },
        "2ea74643f80d4893828eb0c3c27ebbf4": {
          "model_module": "@jupyter-widgets/controls",
          "model_name": "HTMLModel",
          "model_module_version": "1.5.0",
          "state": {
            "_dom_classes": [],
            "_model_module": "@jupyter-widgets/controls",
            "_model_module_version": "1.5.0",
            "_model_name": "HTMLModel",
            "_view_count": null,
            "_view_module": "@jupyter-widgets/controls",
            "_view_module_version": "1.5.0",
            "_view_name": "HTMLView",
            "description": "",
            "description_tooltip": null,
            "layout": "IPY_MODEL_42caf86183e045b7b34b757b36c5b11f",
            "placeholder": "​",
            "style": "IPY_MODEL_64d530d753b0423aaf400309c5b3eea6",
            "value": " 0/1 [00:00&lt;?, ? examples/s]"
          }
        },
        "342e8e669e56416eb350bd405f43a659": {
          "model_module": "@jupyter-widgets/base",
          "model_name": "LayoutModel",
          "model_module_version": "1.2.0",
          "state": {
            "_model_module": "@jupyter-widgets/base",
            "_model_module_version": "1.2.0",
            "_model_name": "LayoutModel",
            "_view_count": null,
            "_view_module": "@jupyter-widgets/base",
            "_view_module_version": "1.2.0",
            "_view_name": "LayoutView",
            "align_content": null,
            "align_items": null,
            "align_self": null,
            "border": null,
            "bottom": null,
            "display": null,
            "flex": null,
            "flex_flow": null,
            "grid_area": null,
            "grid_auto_columns": null,
            "grid_auto_flow": null,
            "grid_auto_rows": null,
            "grid_column": null,
            "grid_gap": null,
            "grid_row": null,
            "grid_template_areas": null,
            "grid_template_columns": null,
            "grid_template_rows": null,
            "height": null,
            "justify_content": null,
            "justify_items": null,
            "left": null,
            "margin": null,
            "max_height": null,
            "max_width": null,
            "min_height": null,
            "min_width": null,
            "object_fit": null,
            "object_position": null,
            "order": null,
            "overflow": null,
            "overflow_x": null,
            "overflow_y": null,
            "padding": null,
            "right": null,
            "top": null,
            "visibility": "hidden",
            "width": null
          }
        },
        "e76da04cbeda4c429d5ac962cbff9db4": {
          "model_module": "@jupyter-widgets/base",
          "model_name": "LayoutModel",
          "model_module_version": "1.2.0",
          "state": {
            "_model_module": "@jupyter-widgets/base",
            "_model_module_version": "1.2.0",
            "_model_name": "LayoutModel",
            "_view_count": null,
            "_view_module": "@jupyter-widgets/base",
            "_view_module_version": "1.2.0",
            "_view_name": "LayoutView",
            "align_content": null,
            "align_items": null,
            "align_self": null,
            "border": null,
            "bottom": null,
            "display": null,
            "flex": null,
            "flex_flow": null,
            "grid_area": null,
            "grid_auto_columns": null,
            "grid_auto_flow": null,
            "grid_auto_rows": null,
            "grid_column": null,
            "grid_gap": null,
            "grid_row": null,
            "grid_template_areas": null,
            "grid_template_columns": null,
            "grid_template_rows": null,
            "height": null,
            "justify_content": null,
            "justify_items": null,
            "left": null,
            "margin": null,
            "max_height": null,
            "max_width": null,
            "min_height": null,
            "min_width": null,
            "object_fit": null,
            "object_position": null,
            "order": null,
            "overflow": null,
            "overflow_x": null,
            "overflow_y": null,
            "padding": null,
            "right": null,
            "top": null,
            "visibility": null,
            "width": null
          }
        },
        "d0b2e6160a7a4bc0a9bff03132fc620d": {
          "model_module": "@jupyter-widgets/controls",
          "model_name": "DescriptionStyleModel",
          "model_module_version": "1.5.0",
          "state": {
            "_model_module": "@jupyter-widgets/controls",
            "_model_module_version": "1.5.0",
            "_model_name": "DescriptionStyleModel",
            "_view_count": null,
            "_view_module": "@jupyter-widgets/base",
            "_view_module_version": "1.2.0",
            "_view_name": "StyleView",
            "description_width": ""
          }
        },
        "0663200f795943058adf361af1d88a24": {
          "model_module": "@jupyter-widgets/base",
          "model_name": "LayoutModel",
          "model_module_version": "1.2.0",
          "state": {
            "_model_module": "@jupyter-widgets/base",
            "_model_module_version": "1.2.0",
            "_model_name": "LayoutModel",
            "_view_count": null,
            "_view_module": "@jupyter-widgets/base",
            "_view_module_version": "1.2.0",
            "_view_name": "LayoutView",
            "align_content": null,
            "align_items": null,
            "align_self": null,
            "border": null,
            "bottom": null,
            "display": null,
            "flex": null,
            "flex_flow": null,
            "grid_area": null,
            "grid_auto_columns": null,
            "grid_auto_flow": null,
            "grid_auto_rows": null,
            "grid_column": null,
            "grid_gap": null,
            "grid_row": null,
            "grid_template_areas": null,
            "grid_template_columns": null,
            "grid_template_rows": null,
            "height": null,
            "justify_content": null,
            "justify_items": null,
            "left": null,
            "margin": null,
            "max_height": null,
            "max_width": null,
            "min_height": null,
            "min_width": null,
            "object_fit": null,
            "object_position": null,
            "order": null,
            "overflow": null,
            "overflow_x": null,
            "overflow_y": null,
            "padding": null,
            "right": null,
            "top": null,
            "visibility": null,
            "width": null
          }
        },
        "2b7927d5eec84002bf2784bc4214eb5b": {
          "model_module": "@jupyter-widgets/controls",
          "model_name": "ProgressStyleModel",
          "model_module_version": "1.5.0",
          "state": {
            "_model_module": "@jupyter-widgets/controls",
            "_model_module_version": "1.5.0",
            "_model_name": "ProgressStyleModel",
            "_view_count": null,
            "_view_module": "@jupyter-widgets/base",
            "_view_module_version": "1.2.0",
            "_view_name": "StyleView",
            "bar_color": null,
            "description_width": ""
          }
        },
        "42caf86183e045b7b34b757b36c5b11f": {
          "model_module": "@jupyter-widgets/base",
          "model_name": "LayoutModel",
          "model_module_version": "1.2.0",
          "state": {
            "_model_module": "@jupyter-widgets/base",
            "_model_module_version": "1.2.0",
            "_model_name": "LayoutModel",
            "_view_count": null,
            "_view_module": "@jupyter-widgets/base",
            "_view_module_version": "1.2.0",
            "_view_name": "LayoutView",
            "align_content": null,
            "align_items": null,
            "align_self": null,
            "border": null,
            "bottom": null,
            "display": null,
            "flex": null,
            "flex_flow": null,
            "grid_area": null,
            "grid_auto_columns": null,
            "grid_auto_flow": null,
            "grid_auto_rows": null,
            "grid_column": null,
            "grid_gap": null,
            "grid_row": null,
            "grid_template_areas": null,
            "grid_template_columns": null,
            "grid_template_rows": null,
            "height": null,
            "justify_content": null,
            "justify_items": null,
            "left": null,
            "margin": null,
            "max_height": null,
            "max_width": null,
            "min_height": null,
            "min_width": null,
            "object_fit": null,
            "object_position": null,
            "order": null,
            "overflow": null,
            "overflow_x": null,
            "overflow_y": null,
            "padding": null,
            "right": null,
            "top": null,
            "visibility": null,
            "width": null
          }
        },
        "64d530d753b0423aaf400309c5b3eea6": {
          "model_module": "@jupyter-widgets/controls",
          "model_name": "DescriptionStyleModel",
          "model_module_version": "1.5.0",
          "state": {
            "_model_module": "@jupyter-widgets/controls",
            "_model_module_version": "1.5.0",
            "_model_name": "DescriptionStyleModel",
            "_view_count": null,
            "_view_module": "@jupyter-widgets/base",
            "_view_module_version": "1.2.0",
            "_view_name": "StyleView",
            "description_width": ""
          }
        },
        "da96a0f6e6294bdf96f0551ca7db4844": {
          "model_module": "@jupyter-widgets/controls",
          "model_name": "HBoxModel",
          "model_module_version": "1.5.0",
          "state": {
            "_dom_classes": [],
            "_model_module": "@jupyter-widgets/controls",
            "_model_module_version": "1.5.0",
            "_model_name": "HBoxModel",
            "_view_count": null,
            "_view_module": "@jupyter-widgets/controls",
            "_view_module_version": "1.5.0",
            "_view_name": "HBoxView",
            "box_style": "",
            "children": [
              "IPY_MODEL_8f73bc54fe1a4b34a9258f5e8045a06a",
              "IPY_MODEL_04ff693296b54690b13c8c74176f16c4",
              "IPY_MODEL_7f345d2c03244ee79ae18590cbfc8bbc"
            ],
            "layout": "IPY_MODEL_cc938a7e7c314c8f8f8a887aed608e63"
          }
        },
        "8f73bc54fe1a4b34a9258f5e8045a06a": {
          "model_module": "@jupyter-widgets/controls",
          "model_name": "HTMLModel",
          "model_module_version": "1.5.0",
          "state": {
            "_dom_classes": [],
            "_model_module": "@jupyter-widgets/controls",
            "_model_module_version": "1.5.0",
            "_model_name": "HTMLModel",
            "_view_count": null,
            "_view_module": "@jupyter-widgets/controls",
            "_view_module_version": "1.5.0",
            "_view_name": "HTMLView",
            "description": "",
            "description_tooltip": null,
            "layout": "IPY_MODEL_9c918e06d9914cc2ab68acf78cc01a4b",
            "placeholder": "​",
            "style": "IPY_MODEL_a8574d70059d4fb49e1c1ce28b100dd8",
            "value": "Map:   0%"
          }
        },
        "04ff693296b54690b13c8c74176f16c4": {
          "model_module": "@jupyter-widgets/controls",
          "model_name": "FloatProgressModel",
          "model_module_version": "1.5.0",
          "state": {
            "_dom_classes": [],
            "_model_module": "@jupyter-widgets/controls",
            "_model_module_version": "1.5.0",
            "_model_name": "FloatProgressModel",
            "_view_count": null,
            "_view_module": "@jupyter-widgets/controls",
            "_view_module_version": "1.5.0",
            "_view_name": "ProgressView",
            "bar_style": "",
            "description": "",
            "description_tooltip": null,
            "layout": "IPY_MODEL_d4ec0e4bcaee4f85a13e16e828d2aafb",
            "max": 46,
            "min": 0,
            "orientation": "horizontal",
            "style": "IPY_MODEL_44e2ef97a88948adada005bf34c20571",
            "value": 46
          }
        },
        "7f345d2c03244ee79ae18590cbfc8bbc": {
          "model_module": "@jupyter-widgets/controls",
          "model_name": "HTMLModel",
          "model_module_version": "1.5.0",
          "state": {
            "_dom_classes": [],
            "_model_module": "@jupyter-widgets/controls",
            "_model_module_version": "1.5.0",
            "_model_name": "HTMLModel",
            "_view_count": null,
            "_view_module": "@jupyter-widgets/controls",
            "_view_module_version": "1.5.0",
            "_view_name": "HTMLView",
            "description": "",
            "description_tooltip": null,
            "layout": "IPY_MODEL_c292ca2c26434b8a9374d9f2471bb5e7",
            "placeholder": "​",
            "style": "IPY_MODEL_e2025ec491fd4a51bb77951a41078bfa",
            "value": " 0/46 [00:00&lt;?, ? examples/s]"
          }
        },
        "cc938a7e7c314c8f8f8a887aed608e63": {
          "model_module": "@jupyter-widgets/base",
          "model_name": "LayoutModel",
          "model_module_version": "1.2.0",
          "state": {
            "_model_module": "@jupyter-widgets/base",
            "_model_module_version": "1.2.0",
            "_model_name": "LayoutModel",
            "_view_count": null,
            "_view_module": "@jupyter-widgets/base",
            "_view_module_version": "1.2.0",
            "_view_name": "LayoutView",
            "align_content": null,
            "align_items": null,
            "align_self": null,
            "border": null,
            "bottom": null,
            "display": null,
            "flex": null,
            "flex_flow": null,
            "grid_area": null,
            "grid_auto_columns": null,
            "grid_auto_flow": null,
            "grid_auto_rows": null,
            "grid_column": null,
            "grid_gap": null,
            "grid_row": null,
            "grid_template_areas": null,
            "grid_template_columns": null,
            "grid_template_rows": null,
            "height": null,
            "justify_content": null,
            "justify_items": null,
            "left": null,
            "margin": null,
            "max_height": null,
            "max_width": null,
            "min_height": null,
            "min_width": null,
            "object_fit": null,
            "object_position": null,
            "order": null,
            "overflow": null,
            "overflow_x": null,
            "overflow_y": null,
            "padding": null,
            "right": null,
            "top": null,
            "visibility": "hidden",
            "width": null
          }
        },
        "9c918e06d9914cc2ab68acf78cc01a4b": {
          "model_module": "@jupyter-widgets/base",
          "model_name": "LayoutModel",
          "model_module_version": "1.2.0",
          "state": {
            "_model_module": "@jupyter-widgets/base",
            "_model_module_version": "1.2.0",
            "_model_name": "LayoutModel",
            "_view_count": null,
            "_view_module": "@jupyter-widgets/base",
            "_view_module_version": "1.2.0",
            "_view_name": "LayoutView",
            "align_content": null,
            "align_items": null,
            "align_self": null,
            "border": null,
            "bottom": null,
            "display": null,
            "flex": null,
            "flex_flow": null,
            "grid_area": null,
            "grid_auto_columns": null,
            "grid_auto_flow": null,
            "grid_auto_rows": null,
            "grid_column": null,
            "grid_gap": null,
            "grid_row": null,
            "grid_template_areas": null,
            "grid_template_columns": null,
            "grid_template_rows": null,
            "height": null,
            "justify_content": null,
            "justify_items": null,
            "left": null,
            "margin": null,
            "max_height": null,
            "max_width": null,
            "min_height": null,
            "min_width": null,
            "object_fit": null,
            "object_position": null,
            "order": null,
            "overflow": null,
            "overflow_x": null,
            "overflow_y": null,
            "padding": null,
            "right": null,
            "top": null,
            "visibility": null,
            "width": null
          }
        },
        "a8574d70059d4fb49e1c1ce28b100dd8": {
          "model_module": "@jupyter-widgets/controls",
          "model_name": "DescriptionStyleModel",
          "model_module_version": "1.5.0",
          "state": {
            "_model_module": "@jupyter-widgets/controls",
            "_model_module_version": "1.5.0",
            "_model_name": "DescriptionStyleModel",
            "_view_count": null,
            "_view_module": "@jupyter-widgets/base",
            "_view_module_version": "1.2.0",
            "_view_name": "StyleView",
            "description_width": ""
          }
        },
        "d4ec0e4bcaee4f85a13e16e828d2aafb": {
          "model_module": "@jupyter-widgets/base",
          "model_name": "LayoutModel",
          "model_module_version": "1.2.0",
          "state": {
            "_model_module": "@jupyter-widgets/base",
            "_model_module_version": "1.2.0",
            "_model_name": "LayoutModel",
            "_view_count": null,
            "_view_module": "@jupyter-widgets/base",
            "_view_module_version": "1.2.0",
            "_view_name": "LayoutView",
            "align_content": null,
            "align_items": null,
            "align_self": null,
            "border": null,
            "bottom": null,
            "display": null,
            "flex": null,
            "flex_flow": null,
            "grid_area": null,
            "grid_auto_columns": null,
            "grid_auto_flow": null,
            "grid_auto_rows": null,
            "grid_column": null,
            "grid_gap": null,
            "grid_row": null,
            "grid_template_areas": null,
            "grid_template_columns": null,
            "grid_template_rows": null,
            "height": null,
            "justify_content": null,
            "justify_items": null,
            "left": null,
            "margin": null,
            "max_height": null,
            "max_width": null,
            "min_height": null,
            "min_width": null,
            "object_fit": null,
            "object_position": null,
            "order": null,
            "overflow": null,
            "overflow_x": null,
            "overflow_y": null,
            "padding": null,
            "right": null,
            "top": null,
            "visibility": null,
            "width": null
          }
        },
        "44e2ef97a88948adada005bf34c20571": {
          "model_module": "@jupyter-widgets/controls",
          "model_name": "ProgressStyleModel",
          "model_module_version": "1.5.0",
          "state": {
            "_model_module": "@jupyter-widgets/controls",
            "_model_module_version": "1.5.0",
            "_model_name": "ProgressStyleModel",
            "_view_count": null,
            "_view_module": "@jupyter-widgets/base",
            "_view_module_version": "1.2.0",
            "_view_name": "StyleView",
            "bar_color": null,
            "description_width": ""
          }
        },
        "c292ca2c26434b8a9374d9f2471bb5e7": {
          "model_module": "@jupyter-widgets/base",
          "model_name": "LayoutModel",
          "model_module_version": "1.2.0",
          "state": {
            "_model_module": "@jupyter-widgets/base",
            "_model_module_version": "1.2.0",
            "_model_name": "LayoutModel",
            "_view_count": null,
            "_view_module": "@jupyter-widgets/base",
            "_view_module_version": "1.2.0",
            "_view_name": "LayoutView",
            "align_content": null,
            "align_items": null,
            "align_self": null,
            "border": null,
            "bottom": null,
            "display": null,
            "flex": null,
            "flex_flow": null,
            "grid_area": null,
            "grid_auto_columns": null,
            "grid_auto_flow": null,
            "grid_auto_rows": null,
            "grid_column": null,
            "grid_gap": null,
            "grid_row": null,
            "grid_template_areas": null,
            "grid_template_columns": null,
            "grid_template_rows": null,
            "height": null,
            "justify_content": null,
            "justify_items": null,
            "left": null,
            "margin": null,
            "max_height": null,
            "max_width": null,
            "min_height": null,
            "min_width": null,
            "object_fit": null,
            "object_position": null,
            "order": null,
            "overflow": null,
            "overflow_x": null,
            "overflow_y": null,
            "padding": null,
            "right": null,
            "top": null,
            "visibility": null,
            "width": null
          }
        },
        "e2025ec491fd4a51bb77951a41078bfa": {
          "model_module": "@jupyter-widgets/controls",
          "model_name": "DescriptionStyleModel",
          "model_module_version": "1.5.0",
          "state": {
            "_model_module": "@jupyter-widgets/controls",
            "_model_module_version": "1.5.0",
            "_model_name": "DescriptionStyleModel",
            "_view_count": null,
            "_view_module": "@jupyter-widgets/base",
            "_view_module_version": "1.2.0",
            "_view_name": "StyleView",
            "description_width": ""
          }
        }
      }
    }
  },
  "nbformat": 4,
  "nbformat_minor": 0
}